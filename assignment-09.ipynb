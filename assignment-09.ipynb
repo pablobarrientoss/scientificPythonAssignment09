{
 "cells": [
  {
   "cell_type": "markdown",
   "metadata": {},
   "source": [
    "# This is Assignment 09 - Pablo Barrientos"
   ]
  },
  {
   "cell_type": "markdown",
   "metadata": {},
   "source": [
    "## Requirement 4\n",
    "##### Python list and Numpy arrays are similar in terms of indexing and using loops. Numpy arrays can onlu contain one types of values."
   ]
  },
  {
   "cell_type": "markdown",
   "metadata": {},
   "source": [
    "## Requirement 5"
   ]
  },
  {
   "cell_type": "markdown",
   "metadata": {},
   "source": [
    "##### In python, variable types can be changed anywhere in the program whereas C, the type of variable has to be declared and cannot be changed over time."
   ]
  },
  {
   "cell_type": "markdown",
   "metadata": {},
   "source": [
    "## Requirement 6\n",
    "##### Python's integers have arbitrary precision, integers can have large values and not overflow. Where as in C, integers have fixed size and can overflow."
   ]
  },
  {
   "cell_type": "markdown",
   "metadata": {},
   "source": [
    "## Requirement 7"
   ]
  },
  {
   "cell_type": "code",
   "execution_count": 28,
   "metadata": {},
   "outputs": [
    {
     "name": "stdout",
     "output_type": "stream",
     "text": [
      "[1, 2, 3, 4, 5, 6, 7, 8, 9, 10, 11, 12, 13, 14, 15, 16, 17, 18, 19, 20]\n",
      "['1', '2', '3', '4', '5', '6', '7', '8', '9', '10', '11', '12', '13', '14', '15', '16', '17', '18', '19', '20']\n"
     ]
    }
   ],
   "source": [
    "L1 = list(range(1, 21))\n",
    "L2 = [str(num) for num in L1]\n",
    "\n",
    "print(L1)\n",
    "print(L2)"
   ]
  },
  {
   "cell_type": "markdown",
   "metadata": {},
   "source": [
    "## Requirement 8"
   ]
  },
  {
   "cell_type": "code",
   "execution_count": 29,
   "metadata": {},
   "outputs": [
    {
     "name": "stdout",
     "output_type": "stream",
     "text": [
      "[10, 10.1, 'ten', 'x', b'hello', True]\n"
     ]
    }
   ],
   "source": [
    "diverseList = [10, 10.10, \"ten\", 'x', b\"hello\", True]\n",
    "print(diverseList)"
   ]
  },
  {
   "cell_type": "markdown",
   "metadata": {},
   "source": [
    "## Requirement 9"
   ]
  },
  {
   "cell_type": "code",
   "execution_count": 30,
   "metadata": {},
   "outputs": [
    {
     "name": "stdout",
     "output_type": "stream",
     "text": [
      "array('i', [1, 2, 3])\n",
      "array('i', [1, 2, 3, 10])\n",
      "array('i', [100, 1, 2, 3, 10])\n",
      "2\n",
      "Error 'str' object cannot be interpreted as an integer\n"
     ]
    }
   ],
   "source": [
    "import array\n",
    "\n",
    "# create int array\n",
    "array = array.array('i', [1, 2, 3])\n",
    "print(array)\n",
    "\n",
    "# append 10 to array\n",
    "array.append(10)\n",
    "print(array)\n",
    "\n",
    "# insert 100 in the beginning of the array\n",
    "array.insert(0, 100)\n",
    "print(array)\n",
    "\n",
    "# print 2nd index\n",
    "index = array.index(2)\n",
    "print(index)\n",
    "\n",
    "# attempt to add string into int array\n",
    "try:\n",
    "    array.append(\"string\")\n",
    "except TypeError as e:\n",
    "    print(\"Error\", e)"
   ]
  },
  {
   "cell_type": "markdown",
   "metadata": {},
   "source": [
    "## Requirement 10"
   ]
  },
  {
   "cell_type": "code",
   "execution_count": 31,
   "metadata": {},
   "outputs": [
    {
     "name": "stdout",
     "output_type": "stream",
     "text": [
      "[ 2.1  4.2  6.3  8.4 10.5 12.6 14.7 16.8 18.9 20.1]\n"
     ]
    }
   ],
   "source": [
    "import numpy as np\n",
    "\n",
    "one_d_array = np.array([1.1, 2.2, 3.3, 4.4, 5.5, 6.6 , 7.7, 8.8, 9.9, 10.10])\n",
    "\n",
    "# combine arrays\n",
    "int_array = np.array([1, 2, 3, 4, 5, 6, 7, 8, 9, 10])\n",
    "combined_array = one_d_array + int_array\n",
    "print(combined_array)"
   ]
  },
  {
   "cell_type": "markdown",
   "metadata": {},
   "source": [
    "## Requirement 11"
   ]
  },
  {
   "cell_type": "code",
   "execution_count": 32,
   "metadata": {},
   "outputs": [
    {
     "name": "stdout",
     "output_type": "stream",
     "text": [
      "[[1 2 3]\n",
      " [2 3 4]\n",
      " [3 4 5]\n",
      " [4 5 6]\n",
      " [5 6 7]]\n"
     ]
    }
   ],
   "source": [
    "import numpy as np\n",
    "\n",
    "# two d array\n",
    "two_d_list = [[i, i+1, i+2] for i in range(1, 6)]\n",
    "\n",
    "two_d_array = np.array(two_d_list)\n",
    "\n",
    "print(two_d_array)"
   ]
  },
  {
   "cell_type": "markdown",
   "metadata": {},
   "source": [
    "## Requirement 12"
   ]
  },
  {
   "cell_type": "code",
   "execution_count": 33,
   "metadata": {},
   "outputs": [
    {
     "name": "stdout",
     "output_type": "stream",
     "text": [
      "three_d_array:\n",
      " [[[41 36 68 21  3]\n",
      "  [76 21 97 53 79]\n",
      "  [26 13 57 36 17]\n",
      "  [76  0  9 67 25]\n",
      "  [63 58 36 41 61]]\n",
      "\n",
      " [[ 0 49 52 47 57]\n",
      "  [67 81 31  7 16]\n",
      "  [58 27  6 91 77]\n",
      "  [83 30 23 44 50]\n",
      "  [79 97 22 53 40]]\n",
      "\n",
      " [[90  0  7 11 20]\n",
      "  [51 51 82 92 87]\n",
      "  [97 85 35 87 87]\n",
      "  [59 98 80 97 37]\n",
      "  [36 75 37 86 17]]]\n",
      "\n",
      "Size in bytes: 300\n"
     ]
    }
   ],
   "source": [
    "import numpy as np\n",
    "\n",
    "# 3d random array\n",
    "three_d_array = np.random.randint(0, 100, (3, 5, 5))\n",
    "\n",
    "print(\"three_d_array:\\n\", three_d_array)\n",
    "\n",
    "# display size in bytes\n",
    "print(\"\\nSize in bytes:\", three_d_array.nbytes)\n"
   ]
  },
  {
   "cell_type": "markdown",
   "metadata": {},
   "source": [
    " ## Requirement 13"
   ]
  },
  {
   "cell_type": "code",
   "execution_count": 34,
   "metadata": {},
   "outputs": [
    {
     "name": "stdout",
     "output_type": "stream",
     "text": [
      "Accessed Elements:\n",
      "0.0 0.0 0.0 0.0\n",
      "\n",
      "Modified three_d_array:\n",
      "[[[1. 0. 0.]\n",
      "  [0. 0. 0.]\n",
      "  [0. 0. 4.]]\n",
      "\n",
      " [[0. 0. 0.]\n",
      "  [0. 2. 0.]\n",
      "  [0. 0. 0.]]\n",
      "\n",
      " [[0. 3. 0.]\n",
      "  [0. 0. 0.]\n",
      "  [0. 0. 0.]]]\n"
     ]
    }
   ],
   "source": [
    "import numpy as np\n",
    "\n",
    "three_d_array = np.zeros((3, 3, 3))\n",
    "\n",
    "# 4 different individual elements\n",
    "element1 = three_d_array[0, 0, 0]  \n",
    "element2 = three_d_array[1, 1, 1]  \n",
    "element3 = three_d_array[2, 0, 1]  \n",
    "element4 = three_d_array[0, 2, 2]  \n",
    "\n",
    "# Print accessed elements\n",
    "print(\"Accessed Elements:\")\n",
    "print(element1, element2, element3, element4)\n",
    "\n",
    "# Modifying 4 different individual elements:\n",
    "three_d_array[0, 0, 0] = 1\n",
    "three_d_array[1, 1, 1] = 2 \n",
    "three_d_array[2, 0, 1] = 3  \n",
    "three_d_array[0, 2, 2] = 4  \n",
    "\n",
    "# Print array \n",
    "print(\"\\nModified three_d_array:\")\n",
    "print(three_d_array)\n"
   ]
  },
  {
   "cell_type": "markdown",
   "metadata": {},
   "source": [
    "## Requirement 14"
   ]
  },
  {
   "cell_type": "code",
   "execution_count": 35,
   "metadata": {},
   "outputs": [],
   "source": [
    "# changing the same four elements accessed above\n",
    "three_d_array[0, 0, 0] = -1\n",
    "three_d_array[1, 1, 1] = -2\n",
    "three_d_array[2, 0, 2] = -3\n",
    "three_d_array[1, 2, 0] = -4"
   ]
  },
  {
   "cell_type": "markdown",
   "metadata": {},
   "source": [
    "## Requirement 15"
   ]
  },
  {
   "cell_type": "code",
   "execution_count": 36,
   "metadata": {},
   "outputs": [],
   "source": [
    "one_d_array = np.arange(20)  \n",
    "\n",
    "# Slicing various elements\n",
    "first_seven = one_d_array[:7]\n",
    "after_seven = one_d_array[7:]\n",
    "three_to_eight = one_d_array[3:9]\n",
    "every_other = one_d_array[::2]\n",
    "reversed_array = one_d_array[::-1]\n",
    "reverse_after_seven = one_d_array[7::-2]\n"
   ]
  },
  {
   "cell_type": "markdown",
   "metadata": {},
   "source": [
    "## Requirement 16"
   ]
  },
  {
   "cell_type": "code",
   "execution_count": 37,
   "metadata": {},
   "outputs": [],
   "source": [
    "import numpy as np\n",
    "\n",
    "two_d_array = np.array([[1, 2, 3], [4, 5, 6], [7, 8, 9]])\n",
    "\n",
    "# Slicing in 2D\n",
    "first_two_rows_cols = two_d_array[:2, :2]  \n",
    "rows_every_other_col = two_d_array[:, ::2]  \n",
    "every_other_row_all_cols = two_d_array[::2, :] \n",
    "sub_array = two_d_array[1:, 1:]  \n"
   ]
  },
  {
   "cell_type": "markdown",
   "metadata": {},
   "source": [
    "## Requirement 17"
   ]
  },
  {
   "cell_type": "code",
   "execution_count": 38,
   "metadata": {},
   "outputs": [
    {
     "name": "stdout",
     "output_type": "stream",
     "text": [
      "[[  1   2   3   4   5   6   7   8   9  10]\n",
      " [ 11  12  13  14  15  16  17  18  19  20]\n",
      " [ 21  22  23  24  25  26  27  28  29  30]\n",
      " [ 31  32  33  34  35  36  37  38  39  40]\n",
      " [ 41  42  43  44  45  46  47  48  49  50]\n",
      " [ 51  52  53  54  55  56  57  58  59  60]\n",
      " [ 61  62  63  64  65  66  67  68  69  70]\n",
      " [ 71  72  73  74  75  76  77  78  79  80]\n",
      " [ 81  82  83  84  85  86  87  88  89  90]\n",
      " [ 91  92  93  94  95  96  97  98  99 100]]\n"
     ]
    }
   ],
   "source": [
    "import numpy as np\n",
    "\n",
    "# Create an array with values from 1 to 100\n",
    "array_1_to_100 = np.arange(1, 101)\n",
    "\n",
    "# Reshape it to a 10x10 array\n",
    "ten_by_ten_array = array_1_to_100.reshape(10, 10)\n",
    "\n",
    "print(ten_by_ten_array)\n"
   ]
  },
  {
   "cell_type": "markdown",
   "metadata": {},
   "source": [
    "## Requirement 18"
   ]
  },
  {
   "cell_type": "code",
   "execution_count": 39,
   "metadata": {},
   "outputs": [
    {
     "name": "stdout",
     "output_type": "stream",
     "text": [
      "Row vector:\n",
      " [[1 2 3 4]]\n",
      "Column vector:\n",
      " [[1]\n",
      " [2]\n",
      " [3]\n",
      " [4]]\n"
     ]
    }
   ],
   "source": [
    "import numpy as np\n",
    "\n",
    "one_d_array = np.array([1, 2, 3, 4])\n",
    "\n",
    "# row vector\n",
    "row_vector = one_d_array.reshape(1, -1)\n",
    "\n",
    "# column vector\n",
    "column_vector = one_d_array.reshape(-1, 1)\n",
    "\n",
    "print(\"Row vector:\\n\", row_vector)\n",
    "print(\"Column vector:\\n\", column_vector)"
   ]
  },
  {
   "cell_type": "markdown",
   "metadata": {},
   "source": [
    "## Requirement 19"
   ]
  },
  {
   "cell_type": "markdown",
   "metadata": {},
   "source": [
    "##### A universal function or unfunc is a function that operates on ndarrays. It supports array broadcasting, type casting and other standard features. They are useful because of their speed and their lack of need of python loops."
   ]
  },
  {
   "cell_type": "markdown",
   "metadata": {},
   "source": [
    "## Requirement 20"
   ]
  },
  {
   "cell_type": "code",
   "execution_count": 40,
   "metadata": {},
   "outputs": [
    {
     "name": "stdout",
     "output_type": "stream",
     "text": [
      "Original array: [0 1 2 3 4]\n",
      "Output array after multiplication with 10: [ 0. 10. 20. 30. 40.]\n",
      "Original array after in-place multiplication with 10: [ 0 10 20 30 40]\n"
     ]
    }
   ],
   "source": [
    "import numpy as np\n",
    "\n",
    "# Create an initial array\n",
    "x = np.arange(5)\n",
    "print(\"Original array:\", x)\n",
    "\n",
    "y = np.empty(5)\n",
    "np.multiply(x, 10, out=y)\n",
    "print(\"Output array after multiplication with 10:\", y)\n",
    "\n",
    "np.multiply(x, 10, out=x)\n",
    "print(\"Original array after in-place multiplication with 10:\", x)\n",
    "\n"
   ]
  },
  {
   "cell_type": "markdown",
   "metadata": {},
   "source": [
    "## Requirement 21"
   ]
  },
  {
   "cell_type": "code",
   "execution_count": 41,
   "metadata": {},
   "outputs": [
    {
     "name": "stdout",
     "output_type": "stream",
     "text": [
      "Product of all elements: 120\n"
     ]
    }
   ],
   "source": [
    "import numpy as np\n",
    "\n",
    "#array\n",
    "one_d_array = np.array([1, 2, 3, 4, 5])\n",
    "\n",
    "# the product of all elements\n",
    "product_of_elements = np.prod(one_d_array)\n",
    "print(\"Product of all elements:\", product_of_elements)\n"
   ]
  },
  {
   "cell_type": "markdown",
   "metadata": {},
   "source": [
    "## Requirement 22"
   ]
  },
  {
   "cell_type": "code",
   "execution_count": 42,
   "metadata": {},
   "outputs": [
    {
     "name": "stdout",
     "output_type": "stream",
     "text": [
      "[[ 2  2  2  2  2]\n",
      " [ 4  4  4  4  4]\n",
      " [ 6  6  6  6  6]\n",
      " [ 8  8  8  8  8]\n",
      " [10 10 10 10 10]]\n"
     ]
    }
   ],
   "source": [
    "import numpy as np\n",
    "\n",
    "# arrays\n",
    "x = np.array([1, 2, 3, 4, 5])\n",
    "y = np.array([2, 2, 2, 2, 2])\n",
    "\n",
    "# the outer product\n",
    "result = np.outer(x, y)\n",
    "\n",
    "print(result)"
   ]
  },
  {
   "cell_type": "markdown",
   "metadata": {},
   "source": [
    "## Requirement 23"
   ]
  },
  {
   "cell_type": "code",
   "execution_count": 43,
   "metadata": {},
   "outputs": [
    {
     "name": "stdout",
     "output_type": "stream",
     "text": [
      "222 µs ± 9.88 µs per loop (mean ± std. dev. of 7 runs, 100 loops each)\n"
     ]
    },
    {
     "name": "stdout",
     "output_type": "stream",
     "text": [
      "69 µs ± 429 ns per loop (mean ± std. dev. of 7 runs, 100 loops each)\n",
      "73.8 µs ± 8.03 µs per loop (mean ± std. dev. of 7 runs, 100 loops each)\n",
      "40.1 ms ± 647 µs per loop (mean ± std. dev. of 7 runs, 100 loops each)\n",
      "22.6 ms ± 955 µs per loop (mean ± std. dev. of 7 runs, 100 loops each)\n",
      "23 ms ± 1.35 ms per loop (mean ± std. dev. of 7 runs, 100 loops each)\n"
     ]
    }
   ],
   "source": [
    "import numpy as np\n",
    "\n",
    "large_array = np.random.rand(1000000)\n",
    "\n",
    "# NumPy's functions\n",
    "%timeit -n 100 np.sum(large_array)\n",
    "%timeit -n 100 np.min(large_array)\n",
    "%timeit -n 100 np.max(large_array)\n",
    "\n",
    "# Python's built-in functions\n",
    "%timeit -n 100 sum(large_array)\n",
    "%timeit -n 100 min(large_array)\n",
    "%timeit -n 100 max(large_array)"
   ]
  },
  {
   "cell_type": "markdown",
   "metadata": {},
   "source": [
    "## Requirement 24"
   ]
  },
  {
   "cell_type": "code",
   "execution_count": 44,
   "metadata": {},
   "outputs": [
    {
     "data": {
      "image/png": "[encoded data removed]",
      "text/plain": [
       "<Figure size 640x480 with 1 Axes>"
      ]
     },
     "metadata": {},
     "output_type": "display_data"
    }
   ],
   "source": [
    "import pandas as pd\n",
    "import matplotlib.pyplot as plt\n",
    "\n",
    "# Read data from CSV\n",
    "data = pd.read_csv('president_heights.csv')\n",
    "\n",
    "# 'height(cm)' column\n",
    "heights = data['height(cm)']\n",
    "\n",
    "# Plot a histogram\n",
    "plt.hist(heights, bins=10, color='blue', edgecolor='black')\n",
    "plt.title('Heights of US Presidents')\n",
    "plt.xlabel('Height (cm)')\n",
    "plt.ylabel('Number of Presidents')\n",
    "plt.show()"
   ]
  },
  {
   "cell_type": "markdown",
   "metadata": {},
   "source": [
    "## Requirement 25"
   ]
  },
  {
   "cell_type": "code",
   "execution_count": 45,
   "metadata": {},
   "outputs": [
    {
     "data": {
      "image/png": "[encoded data removed]",
      "text/plain": [
       "<Figure size 640x480 with 2 Axes>"
      ]
     },
     "metadata": {},
     "output_type": "display_data"
    }
   ],
   "source": [
    "import matplotlib.pyplot as plt\n",
    "import numpy as np\n",
    "\n",
    "x = np.linspace(0, 1, 10)\n",
    "y = np.linspace(0, 1, 10)[:, np.newaxis]\n",
    "\n",
    "two_d_array = x + y\n",
    "\n",
    "# plot\n",
    "plt.imshow(two_d_array, cmap='viridis')\n",
    "plt.colorbar()\n",
    "plt.title('Two-Dimensional Gradient Plot')\n",
    "plt.show()"
   ]
  },
  {
   "cell_type": "markdown",
   "metadata": {},
   "source": [
    "##### Assignment 09 provided a clear understanding of arrays and data manipulation. Matplotlib also showed how powerful of a visualization tool it can be for data science. Overall, this assignment helped me understand the real world implications of of Numpy and Matplotlib."
   ]
  }
 ],
 "metadata": {
  "kernelspec": {
   "display_name": "Python 3",
   "language": "python",
   "name": "python3"
  },
  "language_info": {
   "codemirror_mode": {
    "name": "ipython",
    "version": 3
   },
   "file_extension": ".py",
   "mimetype": "text/x-python",
   "name": "python",
   "nbconvert_exporter": "python",
   "pygments_lexer": "ipython3",
   "version": "3.12.0"
  }
 },
 "nbformat": 4,
 "nbformat_minor": 2
}
